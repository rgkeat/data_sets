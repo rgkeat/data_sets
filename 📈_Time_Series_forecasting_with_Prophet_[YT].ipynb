{
  "metadata": {
    "kernelspec": {
      "language": "python",
      "display_name": "Python 3",
      "name": "python3"
    },
    "language_info": {
      "pygments_lexer": "ipython3",
      "nbconvert_exporter": "python",
      "version": "3.6.4",
      "file_extension": ".py",
      "codemirror_mode": {
        "name": "ipython",
        "version": 3
      },
      "name": "python",
      "mimetype": "text/x-python"
    },
    "colab": {
      "name": "📈 Time Series forecasting with Prophet [YT]",
      "provenance": []
    }
  },
  "nbformat_minor": 0,
  "nbformat": 4,
  "cells": [
    {
      "source": [
        "\n",
        "# IMPORTANT: RUN THIS CELL IN ORDER TO IMPORT YOUR KAGGLE DATA SOURCES\n",
        "# TO THE CORRECT LOCATION (/kaggle/input) IN YOUR NOTEBOOK,\n",
        "# THEN FEEL FREE TO DELETE THIS CELL.\n",
        "# NOTE: THIS NOTEBOOK ENVIRONMENT DIFFERS FROM KAGGLE'S PYTHON\n",
        "# ENVIRONMENT SO THERE MAY BE MISSING LIBRARIES USED BY YOUR\n",
        "# NOTEBOOK.\n",
        "\n",
        "import os\n",
        "import sys\n",
        "from tempfile import NamedTemporaryFile\n",
        "from urllib.request import urlopen\n",
        "from urllib.parse import unquote, urlparse\n",
        "from urllib.error import HTTPError\n",
        "from zipfile import ZipFile\n",
        "import tarfile\n",
        "import shutil\n",
        "\n",
        "CHUNK_SIZE = 40960\n",
        "DATA_SOURCE_MAPPING = ':https%3A%2F%2Fstorage.googleapis.com%2Fkaggle-data-sets%2F48149%2F87794%2Fbundle%2Farchive.zip%3FX-Goog-Algorithm%3DGOOG4-RSA-SHA256%26X-Goog-Credential%3Dgcp-kaggle-com%2540kaggle-161607.iam.gserviceaccount.com%252F20240923%252Fauto%252Fstorage%252Fgoog4_request%26X-Goog-Date%3D20240923T022233Z%26X-Goog-Expires%3D259200%26X-Goog-SignedHeaders%3Dhost%26X-Goog-Signature%3D59440950192631fd3a7324aa38617223318c2191f29d40e015457eec25ae46dc5b5c6e5243a3dcfc7bd51c85be5a87dd511567dc72fa3e290fa9a451f72d9706fe4bc5378fadb1bcafa2d57725d6a2dda9a9f4588bd6defb117994332970ba78ca59b41b25db53ed37fbe0363884bbd9e549b0c0fa934cda98257c0fb49b9aa561171d5921f3b613310b7ed6d8f9bc5be84bbc9393ba47ef3f82b585e6cbf43d8609bdde08411118d5b8d5b270b32305448d8d184516ea6a24bb0d1568087af5b40460875163651a40ae405ae365257c229b4e5650f04780bf01a168056db1b5e7fa31864e88c20ed68fcfbf4be3d688ef8dd142bbf6f70348220392f600b6a3'\n",
        "\n",
        "KAGGLE_INPUT_PATH='/kaggle/input'\n",
        "KAGGLE_WORKING_PATH='/kaggle/working'\n",
        "KAGGLE_SYMLINK='kaggle'\n",
        "\n",
        "!umount /kaggle/input/ 2> /dev/null\n",
        "shutil.rmtree('/kaggle/input', ignore_errors=True)\n",
        "os.makedirs(KAGGLE_INPUT_PATH, 0o777, exist_ok=True)\n",
        "os.makedirs(KAGGLE_WORKING_PATH, 0o777, exist_ok=True)\n",
        "\n",
        "try:\n",
        "  os.symlink(KAGGLE_INPUT_PATH, os.path.join(\"..\", 'input'), target_is_directory=True)\n",
        "except FileExistsError:\n",
        "  pass\n",
        "try:\n",
        "  os.symlink(KAGGLE_WORKING_PATH, os.path.join(\"..\", 'working'), target_is_directory=True)\n",
        "except FileExistsError:\n",
        "  pass\n",
        "\n",
        "for data_source_mapping in DATA_SOURCE_MAPPING.split(','):\n",
        "    directory, download_url_encoded = data_source_mapping.split(':')\n",
        "    download_url = unquote(download_url_encoded)\n",
        "    filename = urlparse(download_url).path\n",
        "    destination_path = os.path.join(KAGGLE_INPUT_PATH, directory)\n",
        "    try:\n",
        "        with urlopen(download_url) as fileres, NamedTemporaryFile() as tfile:\n",
        "            total_length = fileres.headers['content-length']\n",
        "            print(f'Downloading {directory}, {total_length} bytes compressed')\n",
        "            dl = 0\n",
        "            data = fileres.read(CHUNK_SIZE)\n",
        "            while len(data) > 0:\n",
        "                dl += len(data)\n",
        "                tfile.write(data)\n",
        "                done = int(50 * dl / int(total_length))\n",
        "                sys.stdout.write(f\"\\r[{'=' * done}{' ' * (50-done)}] {dl} bytes downloaded\")\n",
        "                sys.stdout.flush()\n",
        "                data = fileres.read(CHUNK_SIZE)\n",
        "            if filename.endswith('.zip'):\n",
        "              with ZipFile(tfile) as zfile:\n",
        "                zfile.extractall(destination_path)\n",
        "            else:\n",
        "              with tarfile.open(tfile.name) as tarfile:\n",
        "                tarfile.extractall(destination_path)\n",
        "            print(f'\\nDownloaded and uncompressed: {directory}')\n",
        "    except HTTPError as e:\n",
        "        print(f'Failed to load (likely expired) {download_url} to path {destination_path}')\n",
        "        continue\n",
        "    except OSError as e:\n",
        "        print(f'Failed to load {download_url} to path {destination_path}')\n",
        "        continue\n",
        "\n",
        "print('Data source import complete.')\n"
      ],
      "metadata": {
        "id": "8e-az3FFsB7l"
      },
      "cell_type": "code",
      "outputs": [],
      "execution_count": null
    },
    {
      "cell_type": "code",
      "source": [],
      "metadata": {
        "id": "SEo1tZKOsC7s"
      },
      "execution_count": null,
      "outputs": []
    },
    {
      "cell_type": "markdown",
      "source": [
        "# Hourly Time Series Forecasting using Facebook's Prophet\n",
        "![](https://miro.medium.com/max/964/0*tVCene42rgUTNv9Q.png)\n",
        "\n",
        "In this notebook we will use facebook's prophet package to forecast hourly energy use."
      ],
      "metadata": {
        "_uuid": "d0542bc75c78e67aae95a90cd0aebe6c51e2f1a8",
        "id": "jpSCVuDEsB7o"
      }
    },
    {
      "cell_type": "markdown",
      "source": [
        "# Background on the Types of Time Series Data\n",
        "![img](https://miro.medium.com/max/1400/1*V_RKPeIxCB9CS_2SsLyKXw.jpeg)"
      ],
      "metadata": {
        "id": "t8yCS5W5sB7p"
      }
    },
    {
      "cell_type": "code",
      "source": [
        "import numpy as np\n",
        "import pandas as pd\n",
        "import seaborn as sns\n",
        "import matplotlib.pyplot as plt\n",
        "\n",
        "from fbprophet import Prophet\n",
        "\n",
        "from sklearn.metrics import mean_squared_error, mean_absolute_error\n",
        "\n",
        "import warnings\n",
        "warnings.filterwarnings(\"ignore\")\n",
        "\n",
        "plt.style.use('ggplot')\n",
        "plt.style.use('fivethirtyeight')\n",
        "\n",
        "def mean_absolute_percentage_error(y_true, y_pred):\n",
        "    \"\"\"Calculates MAPE given y_true and y_pred\"\"\"\n",
        "    y_true, y_pred = np.array(y_true), np.array(y_pred)\n",
        "    return np.mean(np.abs((y_true - y_pred) / y_true)) * 100"
      ],
      "metadata": {
        "execution": {
          "iopub.status.busy": "2022-11-24T19:49:40.181659Z",
          "iopub.execute_input": "2022-11-24T19:49:40.18201Z",
          "iopub.status.idle": "2022-11-24T19:49:40.188339Z",
          "shell.execute_reply.started": "2022-11-24T19:49:40.181953Z",
          "shell.execute_reply": "2022-11-24T19:49:40.18758Z"
        },
        "trusted": true,
        "id": "2Ab7OA6KsB7p"
      },
      "execution_count": null,
      "outputs": []
    },
    {
      "cell_type": "markdown",
      "source": [
        "# Data\n",
        "The data we will be using is hourly power consumption data from PJM. Energy consumption has some unique characteristics. It will be interesting to see how prophet picks them up.\n",
        "\n",
        "Pulling the `PJM East` which has data from 2002-2018 for the entire east region.\n",
        ""
      ],
      "metadata": {
        "id": "J1XRndSKsB7q"
      }
    },
    {
      "cell_type": "code",
      "source": [
        "pjme = pd.read_csv('../input/PJME_hourly.csv',\n",
        "                   index_col=[0],\n",
        "                  parse_dates=[0])\n",
        "pjme.head()"
      ],
      "metadata": {
        "execution": {
          "iopub.status.busy": "2022-11-24T19:23:30.658642Z",
          "iopub.execute_input": "2022-11-24T19:23:30.658947Z",
          "iopub.status.idle": "2022-11-24T19:23:30.903611Z",
          "shell.execute_reply.started": "2022-11-24T19:23:30.658875Z",
          "shell.execute_reply": "2022-11-24T19:23:30.902869Z"
        },
        "trusted": true,
        "id": "ue1Gt2qWsB7q"
      },
      "execution_count": null,
      "outputs": []
    },
    {
      "cell_type": "code",
      "source": [
        "color_pal = sns.color_palette()\n",
        "pjme.plot(style='.',\n",
        "          figsize=(10, 5),\n",
        "          ms=1,\n",
        "          color=color_pal[0],\n",
        "          title='PJME MW')\n",
        "plt.show()"
      ],
      "metadata": {
        "execution": {
          "iopub.status.busy": "2022-11-24T19:24:35.198007Z",
          "iopub.execute_input": "2022-11-24T19:24:35.198314Z",
          "iopub.status.idle": "2022-11-24T19:24:35.843899Z",
          "shell.execute_reply.started": "2022-11-24T19:24:35.198258Z",
          "shell.execute_reply": "2022-11-24T19:24:35.84311Z"
        },
        "trusted": true,
        "id": "KQDrIDvYsB7q"
      },
      "execution_count": null,
      "outputs": []
    },
    {
      "cell_type": "markdown",
      "source": [
        "# Time Series Features"
      ],
      "metadata": {
        "id": "jK5RzVM8sB7q"
      }
    },
    {
      "cell_type": "code",
      "source": [
        "from pandas.api.types import CategoricalDtype\n",
        "\n",
        "cat_type = CategoricalDtype(categories=['Monday','Tuesday',\n",
        "                                        'Wednesday',\n",
        "                                        'Thursday','Friday',\n",
        "                                        'Saturday','Sunday'],\n",
        "                            ordered=True)\n",
        "\n",
        "def create_features(df, label=None):\n",
        "    \"\"\"\n",
        "    Creates time series features from datetime index.\n",
        "    \"\"\"\n",
        "    df = df.copy()\n",
        "    df['date'] = df.index\n",
        "    df['hour'] = df['date'].dt.hour\n",
        "    df['dayofweek'] = df['date'].dt.dayofweek\n",
        "    df['weekday'] = df['date'].dt.day_name()\n",
        "    df['weekday'] = df['weekday'].astype(cat_type)\n",
        "    df['quarter'] = df['date'].dt.quarter\n",
        "    df['month'] = df['date'].dt.month\n",
        "    df['year'] = df['date'].dt.year\n",
        "    df['dayofyear'] = df['date'].dt.dayofyear\n",
        "    df['dayofmonth'] = df['date'].dt.day\n",
        "    df['weekofyear'] = df['date'].dt.weekofyear\n",
        "    df['date_offset'] = (df.date.dt.month*100 + df.date.dt.day - 320)%1300\n",
        "\n",
        "    df['season'] = pd.cut(df['date_offset'], [0, 300, 602, 900, 1300],\n",
        "                          labels=['Spring', 'Summer', 'Fall', 'Winter']\n",
        "                   )\n",
        "    X = df[['hour','dayofweek','quarter','month','year',\n",
        "           'dayofyear','dayofmonth','weekofyear','weekday',\n",
        "           'season']]\n",
        "    if label:\n",
        "        y = df[label]\n",
        "        return X, y\n",
        "    return X\n",
        "\n",
        "X, y = create_features(pjme, label='PJME_MW')\n",
        "features_and_target = pd.concat([X, y], axis=1)"
      ],
      "metadata": {
        "execution": {
          "iopub.status.busy": "2022-11-24T19:27:04.902137Z",
          "iopub.execute_input": "2022-11-24T19:27:04.902448Z",
          "iopub.status.idle": "2022-11-24T19:27:05.226751Z",
          "shell.execute_reply.started": "2022-11-24T19:27:04.902395Z",
          "shell.execute_reply": "2022-11-24T19:27:05.225942Z"
        },
        "trusted": true,
        "id": "P8xehU1psB7r"
      },
      "execution_count": null,
      "outputs": []
    },
    {
      "cell_type": "code",
      "source": [
        "fig, ax = plt.subplots(figsize=(10, 5))\n",
        "sns.boxplot(data=features_and_target.dropna(),\n",
        "            x='weekday',\n",
        "            y='PJME_MW',\n",
        "            hue='season',\n",
        "            ax=ax,\n",
        "            linewidth=1)\n",
        "ax.set_title('Power Use MW by Day of Week')\n",
        "ax.set_xlabel('Day of Week')\n",
        "ax.set_ylabel('Energy (MW)')\n",
        "ax.legend(bbox_to_anchor=(1, 1))\n",
        "plt.show()"
      ],
      "metadata": {
        "execution": {
          "iopub.status.busy": "2022-11-24T19:28:57.901784Z",
          "iopub.execute_input": "2022-11-24T19:28:57.902099Z",
          "iopub.status.idle": "2022-11-24T19:28:58.600678Z",
          "shell.execute_reply.started": "2022-11-24T19:28:57.902041Z",
          "shell.execute_reply": "2022-11-24T19:28:58.599904Z"
        },
        "trusted": true,
        "id": "HLtmPr0GsB7r"
      },
      "execution_count": null,
      "outputs": []
    },
    {
      "cell_type": "markdown",
      "source": [
        "# Train / Test Split"
      ],
      "metadata": {
        "id": "LaKxPI-asB7r"
      }
    },
    {
      "cell_type": "code",
      "source": [
        "split_date = '1-Jan-2015'\n",
        "pjme_train = pjme.loc[pjme.index <= split_date].copy()\n",
        "pjme_test = pjme.loc[pjme.index > split_date].copy()\n",
        "\n",
        "# Plot train and test so you can see where we have split\n",
        "pjme_test \\\n",
        "    .rename(columns={'PJME_MW': 'TEST SET'}) \\\n",
        "    .join(pjme_train.rename(columns={'PJME_MW': 'TRAINING SET'}),\n",
        "          how='outer') \\\n",
        "    .plot(figsize=(10, 5), title='PJM East', style='.', ms=1)\n",
        "plt.show()"
      ],
      "metadata": {
        "execution": {
          "iopub.status.busy": "2022-11-24T19:30:43.299959Z",
          "iopub.execute_input": "2022-11-24T19:30:43.300248Z",
          "iopub.status.idle": "2022-11-24T19:30:44.419536Z",
          "shell.execute_reply.started": "2022-11-24T19:30:43.300197Z",
          "shell.execute_reply": "2022-11-24T19:30:44.418881Z"
        },
        "trusted": true,
        "id": "oPsho4DwsB7r"
      },
      "execution_count": null,
      "outputs": []
    },
    {
      "cell_type": "markdown",
      "source": [
        "# Simple Prophet Model\n",
        "- Prophet model expects the dataset to be named a specific way. We will rename our dataframe columns before feeding it into the model.\n",
        "    - Datetime column named: `ds`\n",
        "    - target : `y`"
      ],
      "metadata": {
        "id": "ZMarWJXgsB7s"
      }
    },
    {
      "cell_type": "code",
      "source": [
        "# Format data for prophet model using ds and y\n",
        "pjme_train_prophet = pjme_train.reset_index() \\\n",
        "    .rename(columns={'Datetime':'ds',\n",
        "                     'PJME_MW':'y'})"
      ],
      "metadata": {
        "execution": {
          "iopub.status.busy": "2022-11-24T19:31:47.218964Z",
          "iopub.execute_input": "2022-11-24T19:31:47.219272Z",
          "iopub.status.idle": "2022-11-24T19:31:47.22828Z",
          "shell.execute_reply.started": "2022-11-24T19:31:47.219217Z",
          "shell.execute_reply": "2022-11-24T19:31:47.227266Z"
        },
        "trusted": true,
        "id": "RJmw4Mo3sB7s"
      },
      "execution_count": null,
      "outputs": []
    },
    {
      "cell_type": "code",
      "source": [
        "%%time\n",
        "model = Prophet()\n",
        "model.fit(pjme_train_prophet)"
      ],
      "metadata": {
        "execution": {
          "iopub.status.busy": "2022-11-24T19:33:10.811045Z",
          "iopub.execute_input": "2022-11-24T19:33:10.811338Z",
          "iopub.status.idle": "2022-11-24T19:37:05.231847Z",
          "shell.execute_reply.started": "2022-11-24T19:33:10.811286Z",
          "shell.execute_reply": "2022-11-24T19:37:05.231018Z"
        },
        "trusted": true,
        "id": "ciB-g461sB7s"
      },
      "execution_count": null,
      "outputs": []
    },
    {
      "cell_type": "code",
      "source": [
        "# Predict on test set with model\n",
        "pjme_test_prophet = pjme_test.reset_index() \\\n",
        "    .rename(columns={'Datetime':'ds',\n",
        "                     'PJME_MW':'y'})\n",
        "\n",
        "pjme_test_fcst = model.predict(pjme_test_prophet)"
      ],
      "metadata": {
        "execution": {
          "iopub.status.busy": "2022-11-24T19:38:16.834958Z",
          "iopub.execute_input": "2022-11-24T19:38:16.835253Z",
          "iopub.status.idle": "2022-11-24T19:39:18.625129Z",
          "shell.execute_reply.started": "2022-11-24T19:38:16.835201Z",
          "shell.execute_reply": "2022-11-24T19:39:18.624327Z"
        },
        "trusted": true,
        "id": "n2TDD7E6sB7s"
      },
      "execution_count": null,
      "outputs": []
    },
    {
      "cell_type": "code",
      "source": [
        "pjme_test_fcst.head()"
      ],
      "metadata": {
        "execution": {
          "iopub.status.busy": "2022-11-24T19:39:26.342319Z",
          "iopub.execute_input": "2022-11-24T19:39:26.34261Z",
          "iopub.status.idle": "2022-11-24T19:39:26.394352Z",
          "shell.execute_reply.started": "2022-11-24T19:39:26.342558Z",
          "shell.execute_reply": "2022-11-24T19:39:26.393585Z"
        },
        "trusted": true,
        "id": "gavSEHgqsB7s"
      },
      "execution_count": null,
      "outputs": []
    },
    {
      "cell_type": "code",
      "source": [
        "fig, ax = plt.subplots(figsize=(10, 5))\n",
        "fig = model.plot(pjme_test_fcst, ax=ax)\n",
        "ax.set_title('Prophet Forecast')\n",
        "plt.show()"
      ],
      "metadata": {
        "execution": {
          "iopub.status.busy": "2022-11-24T19:41:37.946815Z",
          "iopub.execute_input": "2022-11-24T19:41:37.94715Z",
          "iopub.status.idle": "2022-11-24T19:41:38.723594Z",
          "shell.execute_reply.started": "2022-11-24T19:41:37.94709Z",
          "shell.execute_reply": "2022-11-24T19:41:38.722873Z"
        },
        "trusted": true,
        "id": "DlGHZG9usB7s"
      },
      "execution_count": null,
      "outputs": []
    },
    {
      "cell_type": "code",
      "source": [
        "fig = model.plot_components(pjme_test_fcst)\n",
        "plt.show()"
      ],
      "metadata": {
        "execution": {
          "iopub.status.busy": "2022-11-24T19:43:24.218109Z",
          "iopub.execute_input": "2022-11-24T19:43:24.218419Z",
          "iopub.status.idle": "2022-11-24T19:43:26.294728Z",
          "shell.execute_reply.started": "2022-11-24T19:43:24.218365Z",
          "shell.execute_reply": "2022-11-24T19:43:26.294025Z"
        },
        "trusted": true,
        "id": "zHFvhh8UsB7s"
      },
      "execution_count": null,
      "outputs": []
    },
    {
      "cell_type": "markdown",
      "source": [
        "# Compare Forecast to Actuals"
      ],
      "metadata": {
        "id": "tt82sIQLsB7s"
      }
    },
    {
      "cell_type": "code",
      "source": [
        "# Plot the forecast with the actuals\n",
        "f, ax = plt.subplots(figsize=(15, 5))\n",
        "ax.scatter(pjme_test.index, pjme_test['PJME_MW'], color='r')\n",
        "fig = model.plot(pjme_test_fcst, ax=ax)"
      ],
      "metadata": {
        "execution": {
          "iopub.status.busy": "2022-11-24T19:45:38.983479Z",
          "iopub.execute_input": "2022-11-24T19:45:38.983792Z",
          "iopub.status.idle": "2022-11-24T19:45:40.463742Z",
          "shell.execute_reply.started": "2022-11-24T19:45:38.983735Z",
          "shell.execute_reply": "2022-11-24T19:45:40.462982Z"
        },
        "trusted": true,
        "id": "eQzXf3RZsB7t"
      },
      "execution_count": null,
      "outputs": []
    },
    {
      "cell_type": "code",
      "source": [
        "fig, ax = plt.subplots(figsize=(10, 5))\n",
        "ax.scatter(pjme_test.index, pjme_test['PJME_MW'], color='r')\n",
        "fig = model.plot(pjme_test_fcst, ax=ax)\n",
        "ax.set_xbound(lower='01-01-2015',\n",
        "              upper='02-01-2015')\n",
        "ax.set_ylim(0, 60000)\n",
        "plot = plt.suptitle('January 2015 Forecast vs Actuals')"
      ],
      "metadata": {
        "execution": {
          "iopub.status.busy": "2022-11-24T19:46:47.063519Z",
          "iopub.execute_input": "2022-11-24T19:46:47.063811Z",
          "iopub.status.idle": "2022-11-24T19:46:48.112548Z",
          "shell.execute_reply.started": "2022-11-24T19:46:47.063759Z",
          "shell.execute_reply": "2022-11-24T19:46:48.111855Z"
        },
        "trusted": true,
        "id": "DR-TIZEWsB7t"
      },
      "execution_count": null,
      "outputs": []
    },
    {
      "cell_type": "code",
      "source": [
        "# Plot the forecast with the actuals\n",
        "f, ax = plt.subplots(figsize=(15, 5))\n",
        "ax.scatter(pjme_test.index, pjme_test['PJME_MW'], color='r')\n",
        "fig = model.plot(pjme_test_fcst, ax=ax)\n",
        "ax.set_xbound(lower='01-01-2015', upper='01-08-2015')\n",
        "ax.set_ylim(0, 60000)\n",
        "ax.set_title('First Week of January Forecast vs Actuals')\n",
        "plt.show()"
      ],
      "metadata": {
        "execution": {
          "iopub.status.busy": "2022-11-24T19:47:44.766579Z",
          "iopub.execute_input": "2022-11-24T19:47:44.766868Z",
          "iopub.status.idle": "2022-11-24T19:47:45.786693Z",
          "shell.execute_reply.started": "2022-11-24T19:47:44.766815Z",
          "shell.execute_reply": "2022-11-24T19:47:45.785986Z"
        },
        "trusted": true,
        "id": "nxM8mta8sB7t"
      },
      "execution_count": null,
      "outputs": []
    },
    {
      "cell_type": "markdown",
      "source": [
        "# Evaluate the model with Error Metrics"
      ],
      "metadata": {
        "id": "xn5tk4imsB7t"
      }
    },
    {
      "cell_type": "code",
      "source": [
        "np.sqrt(mean_squared_error(y_true=pjme_test['PJME_MW'],\n",
        "                   y_pred=pjme_test_fcst['yhat']))"
      ],
      "metadata": {
        "execution": {
          "iopub.status.busy": "2022-11-24T19:48:43.52761Z",
          "iopub.execute_input": "2022-11-24T19:48:43.527949Z",
          "iopub.status.idle": "2022-11-24T19:48:43.534744Z",
          "shell.execute_reply.started": "2022-11-24T19:48:43.527871Z",
          "shell.execute_reply": "2022-11-24T19:48:43.533975Z"
        },
        "trusted": true,
        "id": "0oHAUqvUsB7t"
      },
      "execution_count": null,
      "outputs": []
    },
    {
      "cell_type": "code",
      "source": [
        "mean_absolute_error(y_true=pjme_test['PJME_MW'],\n",
        "                   y_pred=pjme_test_fcst['yhat'])"
      ],
      "metadata": {
        "execution": {
          "iopub.status.busy": "2022-11-24T19:49:18.42109Z",
          "iopub.execute_input": "2022-11-24T19:49:18.42138Z",
          "iopub.status.idle": "2022-11-24T19:49:18.429135Z",
          "shell.execute_reply.started": "2022-11-24T19:49:18.421325Z",
          "shell.execute_reply": "2022-11-24T19:49:18.42833Z"
        },
        "trusted": true,
        "id": "mI0T9CuqsB7t"
      },
      "execution_count": null,
      "outputs": []
    },
    {
      "cell_type": "code",
      "source": [
        "mean_absolute_percentage_error(y_true=pjme_test['PJME_MW'],\n",
        "                   y_pred=pjme_test_fcst['yhat'])"
      ],
      "metadata": {
        "execution": {
          "iopub.status.busy": "2022-11-24T19:49:46.949506Z",
          "iopub.execute_input": "2022-11-24T19:49:46.949793Z",
          "iopub.status.idle": "2022-11-24T19:49:46.957396Z",
          "shell.execute_reply.started": "2022-11-24T19:49:46.949739Z",
          "shell.execute_reply": "2022-11-24T19:49:46.956373Z"
        },
        "trusted": true,
        "id": "SzE2-9YzsB7t"
      },
      "execution_count": null,
      "outputs": []
    },
    {
      "cell_type": "markdown",
      "source": [
        "# Adding Holidays\n",
        "\n",
        "Next we will see if adding holiday indicators will help the accuracy of the model. Prophet comes with a Holiday Effects parameter that can be provided to the model prior to training.\n",
        "\n",
        "We will use the built in pandas USFederalHolidayCalendar to pull the list of holidays"
      ],
      "metadata": {
        "id": "FXz2noXosB7t"
      }
    },
    {
      "cell_type": "code",
      "source": [
        "from pandas.tseries.holiday import USFederalHolidayCalendar as calendar\n",
        "\n",
        "cal = calendar()\n",
        "\n",
        "\n",
        "holidays = cal.holidays(start=pjme.index.min(),\n",
        "                        end=pjme.index.max(),\n",
        "                        return_name=True)\n",
        "holiday_df = pd.DataFrame(data=holidays,\n",
        "                          columns=['holiday'])\n",
        "holiday_df = holiday_df.reset_index().rename(columns={'index':'ds'})"
      ],
      "metadata": {
        "execution": {
          "iopub.status.busy": "2022-11-24T19:55:20.6696Z",
          "iopub.execute_input": "2022-11-24T19:55:20.669886Z",
          "iopub.status.idle": "2022-11-24T19:55:20.72277Z",
          "shell.execute_reply.started": "2022-11-24T19:55:20.669832Z",
          "shell.execute_reply": "2022-11-24T19:55:20.721958Z"
        },
        "trusted": true,
        "id": "9DLJEjRFsB7t"
      },
      "execution_count": null,
      "outputs": []
    },
    {
      "cell_type": "code",
      "source": [
        "%%time\n",
        "model_with_holidays = Prophet(holidays=holiday_df)\n",
        "model_with_holidays.fit(pjme_train_prophet)"
      ],
      "metadata": {
        "execution": {
          "iopub.status.busy": "2022-11-24T19:56:06.138966Z",
          "iopub.execute_input": "2022-11-24T19:56:06.139261Z",
          "iopub.status.idle": "2022-11-24T19:59:07.214247Z",
          "shell.execute_reply.started": "2022-11-24T19:56:06.139206Z",
          "shell.execute_reply": "2022-11-24T19:59:07.21347Z"
        },
        "trusted": true,
        "id": "SjZFvlbRsB7t"
      },
      "execution_count": null,
      "outputs": []
    },
    {
      "cell_type": "code",
      "source": [
        "# Predict on training set with model\n",
        "pjme_test_fcst_with_hols = \\\n",
        "    model_with_holidays.predict(df=pjme_test_prophet)"
      ],
      "metadata": {
        "execution": {
          "iopub.status.busy": "2022-11-24T19:59:25.398777Z",
          "iopub.execute_input": "2022-11-24T19:59:25.399093Z",
          "iopub.status.idle": "2022-11-24T20:01:27.28786Z",
          "shell.execute_reply.started": "2022-11-24T19:59:25.399037Z",
          "shell.execute_reply": "2022-11-24T20:01:27.287033Z"
        },
        "trusted": true,
        "id": "lbC9tP7qsB7u"
      },
      "execution_count": null,
      "outputs": []
    },
    {
      "cell_type": "code",
      "source": [
        "fig = model_with_holidays.plot_components(\n",
        "    pjme_test_fcst_with_hols)\n",
        "plt.show()"
      ],
      "metadata": {
        "execution": {
          "iopub.status.busy": "2022-11-24T20:02:53.087788Z",
          "iopub.execute_input": "2022-11-24T20:02:53.088097Z",
          "iopub.status.idle": "2022-11-24T20:02:57.674659Z",
          "shell.execute_reply.started": "2022-11-24T20:02:53.088039Z",
          "shell.execute_reply": "2022-11-24T20:02:57.673916Z"
        },
        "trusted": true,
        "id": "RzuEnn8esB7u"
      },
      "execution_count": null,
      "outputs": []
    },
    {
      "cell_type": "code",
      "source": [
        "fig, ax = plt.subplots(figsize=(10, 5))\n",
        "ax.scatter(pjme_test.index, pjme_test['PJME_MW'], color='r')\n",
        "fig = model.plot(pjme_test_fcst_with_hols, ax=ax)\n",
        "ax.set_xbound(lower='07-01-2015',\n",
        "              upper='07-07-2015')\n",
        "ax.set_ylim(0, 60000)\n",
        "plot = plt.suptitle('July 4 Predictions vs Actual')"
      ],
      "metadata": {
        "execution": {
          "iopub.status.busy": "2022-11-24T20:07:40.720651Z",
          "iopub.execute_input": "2022-11-24T20:07:40.721Z",
          "iopub.status.idle": "2022-11-24T20:07:41.791535Z",
          "shell.execute_reply.started": "2022-11-24T20:07:40.720935Z",
          "shell.execute_reply": "2022-11-24T20:07:41.790791Z"
        },
        "trusted": true,
        "id": "Z3WJ1Qf1sB7u"
      },
      "execution_count": null,
      "outputs": []
    },
    {
      "cell_type": "code",
      "source": [
        "np.sqrt(mean_squared_error(y_true=pjme_test['PJME_MW'],\n",
        "                   y_pred=pjme_test_fcst_with_hols['yhat']))"
      ],
      "metadata": {
        "execution": {
          "iopub.status.busy": "2022-11-24T20:08:56.45328Z",
          "iopub.execute_input": "2022-11-24T20:08:56.45357Z",
          "iopub.status.idle": "2022-11-24T20:08:56.46117Z",
          "shell.execute_reply.started": "2022-11-24T20:08:56.453518Z",
          "shell.execute_reply": "2022-11-24T20:08:56.459907Z"
        },
        "trusted": true,
        "id": "xVSLSPR2sB7u"
      },
      "execution_count": null,
      "outputs": []
    },
    {
      "cell_type": "code",
      "source": [
        "mean_absolute_error(y_true=pjme_test['PJME_MW'],\n",
        "                   y_pred=pjme_test_fcst_with_hols['yhat'])"
      ],
      "metadata": {
        "execution": {
          "iopub.status.busy": "2022-11-24T20:08:56.846689Z",
          "iopub.execute_input": "2022-11-24T20:08:56.847009Z",
          "iopub.status.idle": "2022-11-24T20:08:56.853515Z",
          "shell.execute_reply.started": "2022-11-24T20:08:56.84695Z",
          "shell.execute_reply": "2022-11-24T20:08:56.852696Z"
        },
        "trusted": true,
        "id": "24E99buosB7u"
      },
      "execution_count": null,
      "outputs": []
    },
    {
      "cell_type": "code",
      "source": [
        "mean_absolute_percentage_error(y_true=pjme_test['PJME_MW'],\n",
        "                   y_pred=pjme_test_fcst_with_hols['yhat'])"
      ],
      "metadata": {
        "execution": {
          "iopub.status.busy": "2022-11-24T20:08:57.407846Z",
          "iopub.execute_input": "2022-11-24T20:08:57.408162Z",
          "iopub.status.idle": "2022-11-24T20:08:57.415522Z",
          "shell.execute_reply.started": "2022-11-24T20:08:57.408106Z",
          "shell.execute_reply": "2022-11-24T20:08:57.414606Z"
        },
        "trusted": true,
        "id": "_0WNWdTpsB7u"
      },
      "execution_count": null,
      "outputs": []
    },
    {
      "cell_type": "markdown",
      "source": [
        "# Predict into the Future\n",
        "\n",
        "We can use the built in `make_future_dataframe` method to build our future dataframe and make predictions."
      ],
      "metadata": {
        "id": "yJVVKbx_sB7u"
      }
    },
    {
      "cell_type": "code",
      "source": [
        "future = model.make_future_dataframe(periods=365*24, freq='h', include_history=False)\n",
        "forecast = model_with_holidays.predict(future)"
      ],
      "metadata": {
        "execution": {
          "iopub.status.busy": "2022-11-24T20:13:19.187285Z",
          "iopub.execute_input": "2022-11-24T20:13:19.187587Z",
          "iopub.status.idle": "2022-11-24T20:13:56.03521Z",
          "shell.execute_reply.started": "2022-11-24T20:13:19.187533Z",
          "shell.execute_reply": "2022-11-24T20:13:56.034339Z"
        },
        "trusted": true,
        "id": "EMIOfwxksB7u"
      },
      "execution_count": null,
      "outputs": []
    },
    {
      "cell_type": "code",
      "source": [
        "forecast[['ds','yhat']].head()"
      ],
      "metadata": {
        "execution": {
          "iopub.status.busy": "2022-11-24T20:46:31.789823Z",
          "iopub.execute_input": "2022-11-24T20:46:31.790134Z",
          "iopub.status.idle": "2022-11-24T20:46:31.804664Z",
          "shell.execute_reply.started": "2022-11-24T20:46:31.790074Z",
          "shell.execute_reply": "2022-11-24T20:46:31.8039Z"
        },
        "trusted": true,
        "id": "G6Slb09TsB7u"
      },
      "execution_count": null,
      "outputs": []
    },
    {
      "cell_type": "markdown",
      "source": [
        "# The End"
      ],
      "metadata": {
        "id": "BjR8wkbzsB7y"
      }
    }
  ]
}